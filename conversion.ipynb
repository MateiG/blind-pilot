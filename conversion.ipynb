{
 "cells": [
  {
   "cell_type": "code",
   "execution_count": 2,
   "metadata": {
    "tags": []
   },
   "outputs": [
    {
     "output_type": "stream",
     "name": "stderr",
     "text": "WARNING:root:TensorFlow version 1.15.0 detected. Last version known to be fully compatible is 1.14.0 .\nWARNING:root:Keras version 2.3.1 detected. Last version known to be fully compatible of Keras is 2.2.4 .\n"
    }
   ],
   "source": [
    "import coremltools\n",
    "import matplotlib.pyplot as plt\n",
    "import tensorflow as tf\n",
    "import keras"
   ]
  },
  {
   "cell_type": "code",
   "execution_count": 14,
   "metadata": {
    "tags": []
   },
   "outputs": [
    {
     "output_type": "error",
     "ename": "AttributeError",
     "evalue": "module 'coremltools' has no attribute 'convert'",
     "traceback": [
      "\u001b[0;31m---------------------------------------------------------------------------\u001b[0m",
      "\u001b[0;31mAttributeError\u001b[0m                            Traceback (most recent call last)",
      "\u001b[0;32m<ipython-input-14-d49013cc8157>\u001b[0m in \u001b[0;36m<module>\u001b[0;34m\u001b[0m\n\u001b[1;32m      1\u001b[0m \u001b[0;31m#version 4.0\u001b[0m\u001b[0;34m\u001b[0m\u001b[0;34m\u001b[0m\u001b[0;34m\u001b[0m\u001b[0m\n\u001b[0;32m----> 2\u001b[0;31m \u001b[0mcoreml_model\u001b[0m \u001b[0;34m=\u001b[0m \u001b[0mcoremltools\u001b[0m\u001b[0;34m.\u001b[0m\u001b[0mconvert\u001b[0m\u001b[0;34m(\u001b[0m\u001b[0munet_model\u001b[0m\u001b[0;34m,\u001b[0m \u001b[0minputs\u001b[0m\u001b[0;34m=\u001b[0m\u001b[0;34m[\u001b[0m\u001b[0mcoremltools\u001b[0m\u001b[0;34m.\u001b[0m\u001b[0mImageType\u001b[0m\u001b[0;34m(\u001b[0m\u001b[0mscale\u001b[0m\u001b[0;34m=\u001b[0m\u001b[0;36m1.0\u001b[0m\u001b[0;34m/\u001b[0m\u001b[0;36m255\u001b[0m\u001b[0;34m,\u001b[0m \u001b[0mchannel_first\u001b[0m\u001b[0;34m=\u001b[0m\u001b[0;32mFalse\u001b[0m\u001b[0;34m)\u001b[0m\u001b[0;34m]\u001b[0m\u001b[0;34m,\u001b[0m \u001b[0minput_names\u001b[0m\u001b[0;34m=\u001b[0m\u001b[0;34m[\u001b[0m\u001b[0;34m'unet_input'\u001b[0m\u001b[0;34m]\u001b[0m\u001b[0;34m,\u001b[0m \u001b[0moutput_names\u001b[0m\u001b[0;34m=\u001b[0m\u001b[0;34m[\u001b[0m\u001b[0;34m'Identity'\u001b[0m\u001b[0;34m]\u001b[0m\u001b[0;34m)\u001b[0m\u001b[0;34m\u001b[0m\u001b[0;34m\u001b[0m\u001b[0m\n\u001b[0m\u001b[1;32m      3\u001b[0m \u001b[0;34m\u001b[0m\u001b[0m\n\u001b[1;32m      4\u001b[0m \u001b[0mcoreml_model\u001b[0m\u001b[0;34m.\u001b[0m\u001b[0minput_description\u001b[0m\u001b[0;34m[\u001b[0m\u001b[0;34m'unet_input'\u001b[0m\u001b[0;34m]\u001b[0m \u001b[0;34m=\u001b[0m \u001b[0;34m'Frame from camera.'\u001b[0m\u001b[0;34m\u001b[0m\u001b[0;34m\u001b[0m\u001b[0m\n\u001b[1;32m      5\u001b[0m \u001b[0mcoreml_model\u001b[0m\u001b[0;34m.\u001b[0m\u001b[0moutput_description\u001b[0m\u001b[0;34m[\u001b[0m\u001b[0;34m'Identity'\u001b[0m\u001b[0;34m]\u001b[0m \u001b[0;34m=\u001b[0m \u001b[0;34m'Mask.'\u001b[0m\u001b[0;34m\u001b[0m\u001b[0;34m\u001b[0m\u001b[0m\n",
      "\u001b[0;31mAttributeError\u001b[0m: module 'coremltools' has no attribute 'convert'"
     ]
    }
   ],
   "source": [
    "#version 4.0\n",
    "coreml_model = coremltools.convert(unet_model, inputs=[coremltools.ImageType(scale=1.0/255, channel_first=False)], input_names=['unet_input'], output_names=['Identity'])\n",
    "\n",
    "# coreml_model.input_description['unet_input'] = 'Frame from camera.'\n",
    "# coreml_model.output_description['Identity'] = 'Mask.'\n",
    "\n",
    "coreml_model.save(\"unet_model.mlmodel\")"
   ]
  },
  {
   "cell_type": "code",
   "execution_count": 16,
   "metadata": {
    "tags": []
   },
   "outputs": [
    {
     "output_type": "stream",
     "name": "stdout",
     "text": "0 : unet_input, <keras.engine.input_layer.InputLayer object at 0x7fb85c053510>\n1 : conv2d_1, <keras.layers.convolutional.Conv2D object at 0x7fb85c0534d0>\n2 : conv2d_1__activation__, <keras.layers.core.Activation object at 0x7fb85d75efd0>\n3 : conv2d_2, <keras.layers.convolutional.Conv2D object at 0x7fb857742bd0>\n4 : conv2d_2__activation__, <keras.layers.core.Activation object at 0x7fb85d7a0050>\n5 : max_pooling2d_2, <keras.layers.pooling.MaxPooling2D object at 0x7fb857742d50>\n6 : max_pooling2d_1, <keras.layers.pooling.MaxPooling2D object at 0x7fb857742fd0>\n7 : concatenate_1, <keras.layers.merge.Concatenate object at 0x7fb85774b110>\n8 : conv2d_3, <keras.layers.convolutional.Conv2D object at 0x7fb85774b1d0>\n9 : conv2d_3__activation__, <keras.layers.core.Activation object at 0x7fb85d7a0150>\n10 : conv2d_4, <keras.layers.convolutional.Conv2D object at 0x7fb85774b410>\n11 : conv2d_4__activation__, <keras.layers.core.Activation object at 0x7fb85cf4bb90>\n12 : max_pooling2d_4, <keras.layers.pooling.MaxPooling2D object at 0x7fb85774b490>\n13 : max_pooling2d_3, <keras.layers.pooling.MaxPooling2D object at 0x7fb85774b690>\n14 : concatenate_2, <keras.layers.merge.Concatenate object at 0x7fb85774b790>\n15 : conv2d_5, <keras.layers.convolutional.Conv2D object at 0x7fb85774b850>\n16 : conv2d_5__activation__, <keras.layers.core.Activation object at 0x7fb85cf4b9d0>\n17 : conv2d_6, <keras.layers.convolutional.Conv2D object at 0x7fb85774ba90>\n18 : conv2d_6__activation__, <keras.layers.core.Activation object at 0x7fb85cf4ba90>\n19 : max_pooling2d_6, <keras.layers.pooling.MaxPooling2D object at 0x7fb85774bb10>\n20 : max_pooling2d_5, <keras.layers.pooling.MaxPooling2D object at 0x7fb85774bd10>\n21 : concatenate_3, <keras.layers.merge.Concatenate object at 0x7fb85774be10>\n22 : conv2d_7, <keras.layers.convolutional.Conv2D object at 0x7fb85774bed0>\n23 : conv2d_7__activation__, <keras.layers.core.Activation object at 0x7fb85cf4bb50>\n24 : conv2d_8, <keras.layers.convolutional.Conv2D object at 0x7fb857754150>\n25 : conv2d_8__activation__, <keras.layers.core.Activation object at 0x7fb85cf4b250>\n26 : max_pooling2d_8, <keras.layers.pooling.MaxPooling2D object at 0x7fb8577541d0>\n27 : max_pooling2d_7, <keras.layers.pooling.MaxPooling2D object at 0x7fb8577543d0>\n28 : concatenate_4, <keras.layers.merge.Concatenate object at 0x7fb8577544d0>\n29 : conv2d_9, <keras.layers.convolutional.Conv2D object at 0x7fb857754590>\n30 : conv2d_9__activation__, <keras.layers.core.Activation object at 0x7fb85cf4b1d0>\n31 : conv2d_10, <keras.layers.convolutional.Conv2D object at 0x7fb8577547d0>\n32 : conv2d_10__activation__, <keras.layers.core.Activation object at 0x7fb85cf4b290>\n33 : max_pooling2d_10, <keras.layers.pooling.MaxPooling2D object at 0x7fb857754850>\n34 : max_pooling2d_9, <keras.layers.pooling.MaxPooling2D object at 0x7fb857754a50>\n35 : concatenate_5, <keras.layers.merge.Concatenate object at 0x7fb857754b50>\n36 : conv2d_11, <keras.layers.convolutional.Conv2D object at 0x7fb857754c10>\n37 : conv2d_11__activation__, <keras.layers.core.Activation object at 0x7fb85b5d1ed0>\n38 : conv2d_12, <keras.layers.convolutional.Conv2D object at 0x7fb857754e50>\n39 : conv2d_12__activation__, <keras.layers.core.Activation object at 0x7fb85b5d1950>\n40 : conv2d_transpose_1, <keras.layers.convolutional.Conv2DTranspose object at 0x7fb857754fd0>\n41 : concatenate_6, <keras.layers.merge.Concatenate object at 0x7fb857760110>\n42 : conv2d_13, <keras.layers.convolutional.Conv2D object at 0x7fb8577602d0>\n43 : conv2d_13__activation__, <keras.layers.core.Activation object at 0x7fb85b5d18d0>\n44 : conv2d_14, <keras.layers.convolutional.Conv2D object at 0x7fb857760510>\n45 : conv2d_14__activation__, <keras.layers.core.Activation object at 0x7fb85b5d1110>\n46 : conv2d_transpose_2, <keras.layers.convolutional.Conv2DTranspose object at 0x7fb857760590>\n47 : concatenate_7, <keras.layers.merge.Concatenate object at 0x7fb857760790>\n48 : conv2d_15, <keras.layers.convolutional.Conv2D object at 0x7fb857760950>\n49 : conv2d_15__activation__, <keras.layers.core.Activation object at 0x7fb85b5d1510>\n50 : conv2d_16, <keras.layers.convolutional.Conv2D object at 0x7fb857760b90>\n51 : conv2d_16__activation__, <keras.layers.core.Activation object at 0x7fb85b5d1d90>\n52 : conv2d_transpose_3, <keras.layers.convolutional.Conv2DTranspose object at 0x7fb857760c10>\n53 : concatenate_8, <keras.layers.merge.Concatenate object at 0x7fb857760e10>\n54 : conv2d_17, <keras.layers.convolutional.Conv2D object at 0x7fb857760fd0>\n55 : conv2d_17__activation__, <keras.layers.core.Activation object at 0x7fb85b5d5990>\n56 : conv2d_18, <keras.layers.convolutional.Conv2D object at 0x7fb85776a250>\n57 : conv2d_18__activation__, <keras.layers.core.Activation object at 0x7fb85b5d54d0>\n58 : conv2d_transpose_4, <keras.layers.convolutional.Conv2DTranspose object at 0x7fb85776a2d0>\n59 : concatenate_9, <keras.layers.merge.Concatenate object at 0x7fb85776a4d0>\n60 : conv2d_19, <keras.layers.convolutional.Conv2D object at 0x7fb85776a690>\n61 : conv2d_19__activation__, <keras.layers.core.Activation object at 0x7fb85b5d5210>\n62 : conv2d_20, <keras.layers.convolutional.Conv2D object at 0x7fb85776a8d0>\n63 : conv2d_20__activation__, <keras.layers.core.Activation object at 0x7fb85b5d5cd0>\n64 : conv2d_transpose_5, <keras.layers.convolutional.Conv2DTranspose object at 0x7fb85776a950>\n65 : concatenate_10, <keras.layers.merge.Concatenate object at 0x7fb85776ab50>\n66 : conv2d_21, <keras.layers.convolutional.Conv2D object at 0x7fb85776ad10>\n67 : conv2d_21__activation__, <keras.layers.core.Activation object at 0x7fb85b5d5810>\n68 : conv2d_22, <keras.layers.convolutional.Conv2D object at 0x7fb85776af50>\n69 : conv2d_22__activation__, <keras.layers.core.Activation object at 0x7fb85b5d5fd0>\n70 : unet_output, <keras.layers.convolutional.Conv2D object at 0x7fb857775190>\n71 : unet_output__activation__, <keras.layers.core.Activation object at 0x7fb85b5d5e50>\n"
    }
   ],
   "source": [
    "#version 3.4\n",
    "coreml_model = coremltools.converters.keras.convert(\"unet_model.h5\", image_scale=1.0/255, image_input_names=['unet_input'], input_names=['unet_input'], output_names=['Identity'], use_float_arraytype=True)\n",
    "\n",
    "coreml_model.input_description['unet_input'] = 'Frame from camera.'\n",
    "coreml_model.output_description['Identity'] = 'Direction.'\n",
    "\n",
    "coreml_model.save(\"blindpilot.mlmodel\")"
   ]
  },
  {
   "cell_type": "code",
   "execution_count": 13,
   "metadata": {},
   "outputs": [],
   "source": [
    "import coremltools.proto.FeatureTypes_pb2 as ft \n",
    "\n",
    "spec = coreml_model.get_spec()\n",
    "spec_layers = getattr(spec,spec.WhichOneof(\"Type\")).layers\n",
    "last_layer = spec_layers[-1]\n",
    " \n",
    "new_layer = spec_layers.add()\n",
    "new_layer.name = 'convert_to_image'\n",
    " \n",
    "new_layer.activation.linear.alpha = 255\n",
    "\n",
    "new_layer.activation.linear.beta = 0\n",
    " \n",
    "new_layer.input.append(last_layer.output[0])\n",
    " \n",
    "new_layer.output.append('image_output')\n",
    "\n",
    "output = next(x for x in spec.description.output if x.name==last_layer.output[0])\n",
    " \n",
    "# Update it to use the new layer as output\n",
    "output.name = new_layer.name\n",
    "\n",
    "output.type.imageType.colorSpace = ft.ImageFeatureType.ColorSpace.Value('GRAYSCALE')\n",
    "output.type.imageType.height = 224\n",
    "output.type.imageType.width = 224\n",
    "\n",
    "coremltools.utils.save_spec(spec, \"unet_model.mlmodel\")"
   ]
  },
  {
   "cell_type": "code",
   "execution_count": 44,
   "metadata": {
    "tags": []
   },
   "outputs": [
    {
     "output_type": "execute_result",
     "data": {
      "text/plain": "<matplotlib.image.AxesImage at 0x7f9937863810>"
     },
     "metadata": {},
     "execution_count": 44
    },
    {
     "output_type": "display_data",
     "data": {
      "text/plain": "<Figure size 432x288 with 1 Axes>",
      "image/svg+xml": "<?xml version=\"1.0\" encoding=\"utf-8\" standalone=\"no\"?>\n<!DOCTYPE svg PUBLIC \"-//W3C//DTD SVG 1.1//EN\"\n  \"http://www.w3.org/Graphics/SVG/1.1/DTD/svg11.dtd\">\n<!-- Created with matplotlib (https://matplotlib.org/) -->\n<svg height=\"251.831987pt\" version=\"1.1\" viewBox=\"0 0 257.9275 251.831987\" width=\"257.9275pt\" xmlns=\"http://www.w3.org/2000/svg\" xmlns:xlink=\"http://www.w3.org/1999/xlink\">\n <defs>\n  <style type=\"text/css\">\n*{stroke-linecap:butt;stroke-linejoin:round;}\n  </style>\n </defs>\n <g id=\"figure_1\">\n  <g id=\"patch_1\">\n   <path d=\"M 0 251.831987 \nL 257.9275 251.831987 \nL 257.9275 0 \nL 0 0 \nz\n\" style=\"fill:none;\"/>\n  </g>\n  <g id=\"axes_1\">\n   <g id=\"patch_2\">\n    <path d=\"M 33.2875 227.953862 \nL 250.7275 227.953862 \nL 250.7275 10.513862 \nL 33.2875 10.513862 \nz\n\" style=\"fill:#ffffff;\"/>\n   </g>\n   <g clip-path=\"url(#p93ec50ab04)\">\n    <image height=\"218\" id=\"image40b1a355e8\" transform=\"scale(1 -1)translate(0 -218)\" width=\"218\" x=\"33.2875\" xlink:href=\"data:image/png;base64,\niVBORw0KGgoAAAANSUhEUgAAANoAAADaCAYAAADAHVzbAAAABHNCSVQICAgIfAhkiAAAArZJREFUeJzt0yFOQ1EARNHfZwiKBWAbbIPF04QugnWi2QupICBxTVlAde9Lfs+Ro8bczem4PS/AVY3ZB+AWCA0CQoOA0CAgNAgIDQJCg4DQICA0CAgNAkKDgNAgIDQICA0CQoOA0CAgNAgIDQJCg4DQICA0CAgNAkKDgNAgIDQICA0CQoOA0CAgNAgIDQJCg4DQICA0CAgNAkKDgNAgIDQICA0CQoOA0CAgNAgIDQJCg4DQICA0CAgNAkKDgNAgIDQICA0CQoOA0CAgNAgIDQJCg4DQICA0CAgNAkKDgNAgIDQICA0CQoOA0CAgNAgIDQJCg4DQICA0CAgNAkKDgNAgIDQICA0CQoOA0CAgNAgIDQJCg4DQICA0CAgNAkKDgNAgIDQICA0CQoOA0CAgNAgIDQJCg4DQICA0CAgNAkKDgNAgIDQICA0CQoOA0CAgNAgIDQJCg4DQICA0CAgNAkKDgNAgIDQICA0CQoOA0CAgNAgIDQJCg4DQICA0CAgNAkKDgNAgIDQICA0CQoOA0CAgNAgIDQJCg4DQICA0CAgNAkKDgNAgIDQICA0CQoOA0CAgNAgIDQJCg4DQICA0CAgNAkKDgNAgIDQICA0CQoOA0CAgNAgIDQJCg4DQICA0CAgNAkKDgNAgIDQICA0CQoOA0CAgNAgIDQJCg4DQICA0CAgNAkKDgNAgIDQICA0CQoOA0CAgNAgIDQJCg4DQICA0CAgNAkKDgNAgIDQICA0CQoOA0CAgNAgIDQJCg4DQICA0CAgNAkKDgNAgIDQICA0CQoOA0CAgNAgIDQJCg4DQICA0CAgNAkKDgNAgIDQICA0CQoOA0CAgNAgIDQJCg4DQIDAOz/vZH2D1xun7Z/YHWL3N79fj+WHcz/4BqzZEBtc33rYvF+PH391y2L0uT5/vEy7B+vwDyeAP0eIj160AAAAASUVORK5CYII=\" y=\"-9.953862\"/>\n   </g>\n   <g id=\"matplotlib.axis_1\">\n    <g id=\"xtick_1\">\n     <g id=\"line2d_1\">\n      <defs>\n       <path d=\"M 0 0 \nL 0 3.5 \n\" id=\"m0deaa383af\" style=\"stroke:#000000;stroke-width:0.8;\"/>\n      </defs>\n      <g>\n       <use style=\"stroke:#000000;stroke-width:0.8;\" x=\"33.772857\" xlink:href=\"#m0deaa383af\" y=\"227.953862\"/>\n      </g>\n     </g>\n     <g id=\"text_1\">\n      <!-- 0 -->\n      <defs>\n       <path d=\"M 31.78125 66.40625 \nQ 24.171875 66.40625 20.328125 58.90625 \nQ 16.5 51.421875 16.5 36.375 \nQ 16.5 21.390625 20.328125 13.890625 \nQ 24.171875 6.390625 31.78125 6.390625 \nQ 39.453125 6.390625 43.28125 13.890625 \nQ 47.125 21.390625 47.125 36.375 \nQ 47.125 51.421875 43.28125 58.90625 \nQ 39.453125 66.40625 31.78125 66.40625 \nz\nM 31.78125 74.21875 \nQ 44.046875 74.21875 50.515625 64.515625 \nQ 56.984375 54.828125 56.984375 36.375 \nQ 56.984375 17.96875 50.515625 8.265625 \nQ 44.046875 -1.421875 31.78125 -1.421875 \nQ 19.53125 -1.421875 13.0625 8.265625 \nQ 6.59375 17.96875 6.59375 36.375 \nQ 6.59375 54.828125 13.0625 64.515625 \nQ 19.53125 74.21875 31.78125 74.21875 \nz\n\" id=\"DejaVuSans-48\"/>\n      </defs>\n      <g transform=\"translate(30.591607 242.552299)scale(0.1 -0.1)\">\n       <use xlink:href=\"#DejaVuSans-48\"/>\n      </g>\n     </g>\n    </g>\n    <g id=\"xtick_2\">\n     <g id=\"line2d_2\">\n      <g>\n       <use style=\"stroke:#000000;stroke-width:0.8;\" x=\"82.308571\" xlink:href=\"#m0deaa383af\" y=\"227.953862\"/>\n      </g>\n     </g>\n     <g id=\"text_2\">\n      <!-- 50 -->\n      <defs>\n       <path d=\"M 10.796875 72.90625 \nL 49.515625 72.90625 \nL 49.515625 64.59375 \nL 19.828125 64.59375 \nL 19.828125 46.734375 \nQ 21.96875 47.46875 24.109375 47.828125 \nQ 26.265625 48.1875 28.421875 48.1875 \nQ 40.625 48.1875 47.75 41.5 \nQ 54.890625 34.8125 54.890625 23.390625 \nQ 54.890625 11.625 47.5625 5.09375 \nQ 40.234375 -1.421875 26.90625 -1.421875 \nQ 22.3125 -1.421875 17.546875 -0.640625 \nQ 12.796875 0.140625 7.71875 1.703125 \nL 7.71875 11.625 \nQ 12.109375 9.234375 16.796875 8.0625 \nQ 21.484375 6.890625 26.703125 6.890625 \nQ 35.15625 6.890625 40.078125 11.328125 \nQ 45.015625 15.765625 45.015625 23.390625 \nQ 45.015625 31 40.078125 35.4375 \nQ 35.15625 39.890625 26.703125 39.890625 \nQ 22.75 39.890625 18.8125 39.015625 \nQ 14.890625 38.140625 10.796875 36.28125 \nz\n\" id=\"DejaVuSans-53\"/>\n      </defs>\n      <g transform=\"translate(75.946071 242.552299)scale(0.1 -0.1)\">\n       <use xlink:href=\"#DejaVuSans-53\"/>\n       <use x=\"63.623047\" xlink:href=\"#DejaVuSans-48\"/>\n      </g>\n     </g>\n    </g>\n    <g id=\"xtick_3\">\n     <g id=\"line2d_3\">\n      <g>\n       <use style=\"stroke:#000000;stroke-width:0.8;\" x=\"130.844286\" xlink:href=\"#m0deaa383af\" y=\"227.953862\"/>\n      </g>\n     </g>\n     <g id=\"text_3\">\n      <!-- 100 -->\n      <defs>\n       <path d=\"M 12.40625 8.296875 \nL 28.515625 8.296875 \nL 28.515625 63.921875 \nL 10.984375 60.40625 \nL 10.984375 69.390625 \nL 28.421875 72.90625 \nL 38.28125 72.90625 \nL 38.28125 8.296875 \nL 54.390625 8.296875 \nL 54.390625 0 \nL 12.40625 0 \nz\n\" id=\"DejaVuSans-49\"/>\n      </defs>\n      <g transform=\"translate(121.300536 242.552299)scale(0.1 -0.1)\">\n       <use xlink:href=\"#DejaVuSans-49\"/>\n       <use x=\"63.623047\" xlink:href=\"#DejaVuSans-48\"/>\n       <use x=\"127.246094\" xlink:href=\"#DejaVuSans-48\"/>\n      </g>\n     </g>\n    </g>\n    <g id=\"xtick_4\">\n     <g id=\"line2d_4\">\n      <g>\n       <use style=\"stroke:#000000;stroke-width:0.8;\" x=\"179.38\" xlink:href=\"#m0deaa383af\" y=\"227.953862\"/>\n      </g>\n     </g>\n     <g id=\"text_4\">\n      <!-- 150 -->\n      <g transform=\"translate(169.83625 242.552299)scale(0.1 -0.1)\">\n       <use xlink:href=\"#DejaVuSans-49\"/>\n       <use x=\"63.623047\" xlink:href=\"#DejaVuSans-53\"/>\n       <use x=\"127.246094\" xlink:href=\"#DejaVuSans-48\"/>\n      </g>\n     </g>\n    </g>\n    <g id=\"xtick_5\">\n     <g id=\"line2d_5\">\n      <g>\n       <use style=\"stroke:#000000;stroke-width:0.8;\" x=\"227.915714\" xlink:href=\"#m0deaa383af\" y=\"227.953862\"/>\n      </g>\n     </g>\n     <g id=\"text_5\">\n      <!-- 200 -->\n      <defs>\n       <path d=\"M 19.1875 8.296875 \nL 53.609375 8.296875 \nL 53.609375 0 \nL 7.328125 0 \nL 7.328125 8.296875 \nQ 12.9375 14.109375 22.625 23.890625 \nQ 32.328125 33.6875 34.8125 36.53125 \nQ 39.546875 41.84375 41.421875 45.53125 \nQ 43.3125 49.21875 43.3125 52.78125 \nQ 43.3125 58.59375 39.234375 62.25 \nQ 35.15625 65.921875 28.609375 65.921875 \nQ 23.96875 65.921875 18.8125 64.3125 \nQ 13.671875 62.703125 7.8125 59.421875 \nL 7.8125 69.390625 \nQ 13.765625 71.78125 18.9375 73 \nQ 24.125 74.21875 28.421875 74.21875 \nQ 39.75 74.21875 46.484375 68.546875 \nQ 53.21875 62.890625 53.21875 53.421875 \nQ 53.21875 48.921875 51.53125 44.890625 \nQ 49.859375 40.875 45.40625 35.40625 \nQ 44.1875 33.984375 37.640625 27.21875 \nQ 31.109375 20.453125 19.1875 8.296875 \nz\n\" id=\"DejaVuSans-50\"/>\n      </defs>\n      <g transform=\"translate(218.371964 242.552299)scale(0.1 -0.1)\">\n       <use xlink:href=\"#DejaVuSans-50\"/>\n       <use x=\"63.623047\" xlink:href=\"#DejaVuSans-48\"/>\n       <use x=\"127.246094\" xlink:href=\"#DejaVuSans-48\"/>\n      </g>\n     </g>\n    </g>\n   </g>\n   <g id=\"matplotlib.axis_2\">\n    <g id=\"ytick_1\">\n     <g id=\"line2d_6\">\n      <defs>\n       <path d=\"M 0 0 \nL -3.5 0 \n\" id=\"mcf2b8f5b42\" style=\"stroke:#000000;stroke-width:0.8;\"/>\n      </defs>\n      <g>\n       <use style=\"stroke:#000000;stroke-width:0.8;\" x=\"33.2875\" xlink:href=\"#mcf2b8f5b42\" y=\"10.999219\"/>\n      </g>\n     </g>\n     <g id=\"text_6\">\n      <!-- 0 -->\n      <g transform=\"translate(19.925 14.798437)scale(0.1 -0.1)\">\n       <use xlink:href=\"#DejaVuSans-48\"/>\n      </g>\n     </g>\n    </g>\n    <g id=\"ytick_2\">\n     <g id=\"line2d_7\">\n      <g>\n       <use style=\"stroke:#000000;stroke-width:0.8;\" x=\"33.2875\" xlink:href=\"#mcf2b8f5b42\" y=\"35.267076\"/>\n      </g>\n     </g>\n     <g id=\"text_7\">\n      <!-- 25 -->\n      <g transform=\"translate(13.5625 39.066295)scale(0.1 -0.1)\">\n       <use xlink:href=\"#DejaVuSans-50\"/>\n       <use x=\"63.623047\" xlink:href=\"#DejaVuSans-53\"/>\n      </g>\n     </g>\n    </g>\n    <g id=\"ytick_3\">\n     <g id=\"line2d_8\">\n      <g>\n       <use style=\"stroke:#000000;stroke-width:0.8;\" x=\"33.2875\" xlink:href=\"#mcf2b8f5b42\" y=\"59.534933\"/>\n      </g>\n     </g>\n     <g id=\"text_8\">\n      <!-- 50 -->\n      <g transform=\"translate(13.5625 63.334152)scale(0.1 -0.1)\">\n       <use xlink:href=\"#DejaVuSans-53\"/>\n       <use x=\"63.623047\" xlink:href=\"#DejaVuSans-48\"/>\n      </g>\n     </g>\n    </g>\n    <g id=\"ytick_4\">\n     <g id=\"line2d_9\">\n      <g>\n       <use style=\"stroke:#000000;stroke-width:0.8;\" x=\"33.2875\" xlink:href=\"#mcf2b8f5b42\" y=\"83.80279\"/>\n      </g>\n     </g>\n     <g id=\"text_9\">\n      <!-- 75 -->\n      <defs>\n       <path d=\"M 8.203125 72.90625 \nL 55.078125 72.90625 \nL 55.078125 68.703125 \nL 28.609375 0 \nL 18.3125 0 \nL 43.21875 64.59375 \nL 8.203125 64.59375 \nz\n\" id=\"DejaVuSans-55\"/>\n      </defs>\n      <g transform=\"translate(13.5625 87.602009)scale(0.1 -0.1)\">\n       <use xlink:href=\"#DejaVuSans-55\"/>\n       <use x=\"63.623047\" xlink:href=\"#DejaVuSans-53\"/>\n      </g>\n     </g>\n    </g>\n    <g id=\"ytick_5\">\n     <g id=\"line2d_10\">\n      <g>\n       <use style=\"stroke:#000000;stroke-width:0.8;\" x=\"33.2875\" xlink:href=\"#mcf2b8f5b42\" y=\"108.070647\"/>\n      </g>\n     </g>\n     <g id=\"text_10\">\n      <!-- 100 -->\n      <g transform=\"translate(7.2 111.869866)scale(0.1 -0.1)\">\n       <use xlink:href=\"#DejaVuSans-49\"/>\n       <use x=\"63.623047\" xlink:href=\"#DejaVuSans-48\"/>\n       <use x=\"127.246094\" xlink:href=\"#DejaVuSans-48\"/>\n      </g>\n     </g>\n    </g>\n    <g id=\"ytick_6\">\n     <g id=\"line2d_11\">\n      <g>\n       <use style=\"stroke:#000000;stroke-width:0.8;\" x=\"33.2875\" xlink:href=\"#mcf2b8f5b42\" y=\"132.338504\"/>\n      </g>\n     </g>\n     <g id=\"text_11\">\n      <!-- 125 -->\n      <g transform=\"translate(7.2 136.137723)scale(0.1 -0.1)\">\n       <use xlink:href=\"#DejaVuSans-49\"/>\n       <use x=\"63.623047\" xlink:href=\"#DejaVuSans-50\"/>\n       <use x=\"127.246094\" xlink:href=\"#DejaVuSans-53\"/>\n      </g>\n     </g>\n    </g>\n    <g id=\"ytick_7\">\n     <g id=\"line2d_12\">\n      <g>\n       <use style=\"stroke:#000000;stroke-width:0.8;\" x=\"33.2875\" xlink:href=\"#mcf2b8f5b42\" y=\"156.606362\"/>\n      </g>\n     </g>\n     <g id=\"text_12\">\n      <!-- 150 -->\n      <g transform=\"translate(7.2 160.40558)scale(0.1 -0.1)\">\n       <use xlink:href=\"#DejaVuSans-49\"/>\n       <use x=\"63.623047\" xlink:href=\"#DejaVuSans-53\"/>\n       <use x=\"127.246094\" xlink:href=\"#DejaVuSans-48\"/>\n      </g>\n     </g>\n    </g>\n    <g id=\"ytick_8\">\n     <g id=\"line2d_13\">\n      <g>\n       <use style=\"stroke:#000000;stroke-width:0.8;\" x=\"33.2875\" xlink:href=\"#mcf2b8f5b42\" y=\"180.874219\"/>\n      </g>\n     </g>\n     <g id=\"text_13\">\n      <!-- 175 -->\n      <g transform=\"translate(7.2 184.673437)scale(0.1 -0.1)\">\n       <use xlink:href=\"#DejaVuSans-49\"/>\n       <use x=\"63.623047\" xlink:href=\"#DejaVuSans-55\"/>\n       <use x=\"127.246094\" xlink:href=\"#DejaVuSans-53\"/>\n      </g>\n     </g>\n    </g>\n    <g id=\"ytick_9\">\n     <g id=\"line2d_14\">\n      <g>\n       <use style=\"stroke:#000000;stroke-width:0.8;\" x=\"33.2875\" xlink:href=\"#mcf2b8f5b42\" y=\"205.142076\"/>\n      </g>\n     </g>\n     <g id=\"text_14\">\n      <!-- 200 -->\n      <g transform=\"translate(7.2 208.941295)scale(0.1 -0.1)\">\n       <use xlink:href=\"#DejaVuSans-50\"/>\n       <use x=\"63.623047\" xlink:href=\"#DejaVuSans-48\"/>\n       <use x=\"127.246094\" xlink:href=\"#DejaVuSans-48\"/>\n      </g>\n     </g>\n    </g>\n   </g>\n   <g id=\"patch_3\">\n    <path d=\"M 33.2875 227.953862 \nL 33.2875 10.513862 \n\" style=\"fill:none;stroke:#000000;stroke-linecap:square;stroke-linejoin:miter;stroke-width:0.8;\"/>\n   </g>\n   <g id=\"patch_4\">\n    <path d=\"M 250.7275 227.953862 \nL 250.7275 10.513862 \n\" style=\"fill:none;stroke:#000000;stroke-linecap:square;stroke-linejoin:miter;stroke-width:0.8;\"/>\n   </g>\n   <g id=\"patch_5\">\n    <path d=\"M 33.2875 227.953862 \nL 250.7275 227.953862 \n\" style=\"fill:none;stroke:#000000;stroke-linecap:square;stroke-linejoin:miter;stroke-width:0.8;\"/>\n   </g>\n   <g id=\"patch_6\">\n    <path d=\"M 33.2875 10.513862 \nL 250.7275 10.513862 \n\" style=\"fill:none;stroke:#000000;stroke-linecap:square;stroke-linejoin:miter;stroke-width:0.8;\"/>\n   </g>\n  </g>\n </g>\n <defs>\n  <clipPath id=\"p93ec50ab04\">\n   <rect height=\"217.44\" width=\"217.44\" x=\"33.2875\" y=\"10.513862\"/>\n  </clipPath>\n </defs>\n</svg>\n",
      "image/png": "[encoded data removed]"
     },
     "metadata": {
      "needs_background": "light"
     }
    }
   ],
   "source": [
    "from PIL import Image\n",
    "import matplotlib.pyplot as plt\n",
    "image = Image.open('frame0116.png')\n",
    "\n",
    "prediction = coreml_model.predict({\"unet_input\": image})\n",
    "plt.imshow(prediction['Identity'].reshape(224, 224))"
   ]
  },
  {
   "cell_type": "code",
   "execution_count": 43,
   "metadata": {},
   "outputs": [],
   "source": [
    "import coremltools.proto.FeatureTypes_pb2 as ft \n",
    "\n",
    "spec = coremltools.utils.load_spec(\"with_alpha.mlmodel\")\n",
    "output = spec.description.output[0]\n",
    "\n",
    "output.type.imageType.colorSpace = ft.ImageFeatureType.ColorSpace.Value('GRAYSCALE')\n",
    "output.type.imageType.height = 224\n",
    "output.type.imageType.width = 224\n",
    "\n",
    "coremltools.utils.save_spec(spec, \"unet_model.mlmodel\")"
   ]
  }
 ],
 "metadata": {
  "language_info": {
   "codemirror_mode": {
    "name": "ipython",
    "version": 3
   },
   "file_extension": ".py",
   "mimetype": "text/x-python",
   "name": "python",
   "nbconvert_exporter": "python",
   "pygments_lexer": "ipython3",
   "version": "3.7.7-final"
  },
  "orig_nbformat": 2,
  "kernelspec": {
   "name": "python3",
   "display_name": "Python 3"
  }
 },
 "nbformat": 4,
 "nbformat_minor": 2
}